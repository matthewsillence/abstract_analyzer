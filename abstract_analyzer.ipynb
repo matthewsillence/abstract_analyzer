{
  "nbformat": 4,
  "nbformat_minor": 0,
  "metadata": {
    "colab": {
      "name": "abstract_analyzer.ipynb",
      "provenance": [],
      "collapsed_sections": [],
      "authorship_tag": "ABX9TyMyEOF4LTn/0g2uhApNBo/2",
      "include_colab_link": true
    },
    "kernelspec": {
      "name": "python3",
      "display_name": "Python 3"
    },
    "language_info": {
      "name": "python"
    }
  },
  "cells": [
    {
      "cell_type": "markdown",
      "metadata": {
        "id": "view-in-github",
        "colab_type": "text"
      },
      "source": [
        "<a href=\"https://colab.research.google.com/github/matthewsillence/abstract_analyzer/blob/main/abstract_analyzer.ipynb\" target=\"_parent\"><img src=\"https://colab.research.google.com/assets/colab-badge.svg\" alt=\"Open In Colab\"/></a>"
      ]
    },
    {
      "cell_type": "code",
      "source": [
        "# Import Pandas\n",
        "import pandas as pd\n",
        "\n",
        "# Read in the CSV and assign as 'df'\n",
        "df = pd.read_csv('/content/export_uea_CSV.csv')\n",
        "\n",
        "# Isolate abstract column from the dataframe and assign as 'content'\n",
        "content = df.abstract\n",
        "\n",
        "# Print abstract column\n",
        "print(content)\n"
      ],
      "metadata": {
        "colab": {
          "base_uri": "https://localhost:8080/"
        },
        "id": "2MuH_0qrRLdJ",
        "outputId": "8dbd350e-da0a-49cc-999f-d8d0c24f4659"
      },
      "execution_count": 1,
      "outputs": [
        {
          "output_type": "stream",
          "name": "stdout",
          "text": [
            "0      Creative Submission:\\n\\nMy digital narrative, ...\n",
            "1      This thesis comprises two parts. The novel, Dr...\n",
            "2      This thesis presents a theory of the self as p...\n",
            "3      During the period of British abolitionism, the...\n",
            "4      Recent scholarly accounts have noted the incre...\n",
            "                             ...                        \n",
            "479                                                  NaN\n",
            "480                                                  NaN\n",
            "481                                                  NaN\n",
            "482    Among music educators and particularly violini...\n",
            "483                                                  NaN\n",
            "Name: abstract, Length: 484, dtype: object\n"
          ]
        }
      ]
    },
    {
      "cell_type": "code",
      "source": [
        "# Save the dataframe as a CSV file\n",
        "content.to_csv('abstracts.csv', index = False)"
      ],
      "metadata": {
        "id": "bVPVorpagy2P"
      },
      "execution_count": 2,
      "outputs": []
    },
    {
      "cell_type": "code",
      "source": [
        "import nltk,csv,numpy\n",
        "nltk.download('punkt')\n",
        "from nltk import sent_tokenize, word_tokenize, pos_tag\n",
        "\n",
        "reader = csv.reader(open('abstracts.csv', 'rU'), delimiter= \",\",quotechar='|')\n",
        "tokenData = nltk.word_tokenize(str(reader))"
      ],
      "metadata": {
        "colab": {
          "base_uri": "https://localhost:8080/"
        },
        "id": "1wXVpwV7GaMh",
        "outputId": "5dae5d99-9be2-4962-f69d-384f6e5a3f8b"
      },
      "execution_count": 3,
      "outputs": [
        {
          "output_type": "stream",
          "name": "stdout",
          "text": [
            "[nltk_data] Downloading package punkt to /root/nltk_data...\n",
            "[nltk_data]   Unzipping tokenizers/punkt.zip.\n"
          ]
        },
        {
          "output_type": "stream",
          "name": "stderr",
          "text": [
            "/usr/local/lib/python3.7/dist-packages/ipykernel_launcher.py:5: DeprecationWarning: 'U' mode is deprecated\n",
            "  \"\"\"\n"
          ]
        }
      ]
    },
    {
      "cell_type": "code",
      "source": [
        "print(tokenData)"
      ],
      "metadata": {
        "id": "RhYcI5UpGtbk",
        "colab": {
          "base_uri": "https://localhost:8080/"
        },
        "outputId": "9148415b-88ee-48f6-9510-3e387bf434b4"
      },
      "execution_count": 4,
      "outputs": [
        {
          "output_type": "stream",
          "name": "stdout",
          "text": [
            "['<', '_csv.reader', 'object', 'at', '0x7f9bbde3add0', '>']\n"
          ]
        }
      ]
    },
    {
      "cell_type": "code",
      "source": [
        "from nltk.stem.wordnet import WordNetLemmatizer\n",
        "import csv\n",
        "f = open('/content/abstracts.csv', 'r', 'encoding=utf-8')\n",
        "reader = csv.reader(f)\n",
        "for line in line:\n",
        "  tokens = word_tokenize(str(line))\n",
        "  posData = pos_tag(tokens)\n",
        "  print(posData)\n"
      ],
      "metadata": {
        "id": "YrRvwTF82ZpQ"
      },
      "execution_count": null,
      "outputs": []
    },
    {
      "cell_type": "code",
      "source": [
        "import csv\n",
        "import codecs\n",
        "import numpy as np\n",
        "nltk.download('averaged_perceptron_tagger') \n",
        "from nltk import sent_tokenize, word_tokenize as word_tokenize, pos_tag as pos_tag\n",
        "with open('abstracts.csv', 'r', encoding='utf-8'):\n",
        "  for line in line:\n",
        "    tokens = word_tokenizestr(str(line))\n",
        "    posData = pos_tag(tokens)\n",
        "    print(posData)"
      ],
      "metadata": {
        "id": "-01Idk3PHSji"
      },
      "execution_count": null,
      "outputs": []
    },
    {
      "cell_type": "code",
      "source": [
        "df = pd.read_csv('/content/abstracts.csv')"
      ],
      "metadata": {
        "id": "Ghx9RlgLIIPX"
      },
      "execution_count": null,
      "outputs": []
    },
    {
      "cell_type": "code",
      "source": [
        "for line in df:\n",
        "    tokens = word_tokenizestr(str(line))\n",
        "    posData = pos_tag(tokens)\n",
        "    print(posData)"
      ],
      "metadata": {
        "id": "4qO01wTYMhGp"
      },
      "execution_count": null,
      "outputs": []
    },
    {
      "cell_type": "code",
      "source": [
        "import csv\n",
        "with open(\"abstracts.csv\", \"r\") as f:\n",
        "  reader = csv.reader(f)\n",
        "  rownumber = 0\n",
        "  for row in reader:\n",
        "    g = open(\"t\"+str(rownumber)+\".txt\",\"w\")\n",
        "    g.write(row)\n",
        "    rownumber = rownumber + 1\n",
        "    g.close()"
      ],
      "metadata": {
        "id": "Et7UtJCiOHMI"
      },
      "execution_count": null,
      "outputs": []
    }
  ]
}