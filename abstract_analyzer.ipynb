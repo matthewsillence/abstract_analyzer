{
  "nbformat": 4,
  "nbformat_minor": 0,
  "metadata": {
    "colab": {
      "name": "abstract_analyzer.ipynb",
      "provenance": [],
      "collapsed_sections": [],
      "authorship_tag": "ABX9TyN7BZdmIScHUaLc+bU9ZiLp",
      "include_colab_link": true
    },
    "kernelspec": {
      "name": "python3",
      "display_name": "Python 3"
    },
    "language_info": {
      "name": "python"
    }
  },
  "cells": [
    {
      "cell_type": "markdown",
      "metadata": {
        "id": "view-in-github",
        "colab_type": "text"
      },
      "source": [
        "<a href=\"https://colab.research.google.com/github/matthewsillence/abstract_analyzer/blob/main/abstract_analyzer.ipynb\" target=\"_parent\"><img src=\"https://colab.research.google.com/assets/colab-badge.svg\" alt=\"Open In Colab\"/></a>"
      ]
    },
    {
      "cell_type": "code",
      "source": [
        "# Import Pandas\n",
        "import pandas as pd\n",
        "\n",
        "# Read in the CSV and assign as 'df'\n",
        "df = pd.read_csv('/content/export_uea_CSV.csv')\n",
        "\n",
        "# Isolate abstract column from the dataframe and assign as 'content'\n",
        "content = df.abstract\n",
        "\n",
        "# Print abstract column\n",
        "print(content)\n"
      ],
      "metadata": {
        "id": "2MuH_0qrRLdJ"
      },
      "execution_count": null,
      "outputs": []
    },
    {
      "cell_type": "code",
      "source": [
        "# Save the dataframe as a CSV file\n",
        "content.to_csv('abstracts.csv', index = False)"
      ],
      "metadata": {
        "id": "bVPVorpagy2P"
      },
      "execution_count": 107,
      "outputs": []
    },
    {
      "cell_type": "code",
      "source": [
        "# Read and write a csv file\n",
        "import csv\n",
        "\n",
        "CSV_IN = 'abstracts.csv'\n",
        "TXT_OUT = 'abstracts.txt'\n",
        "\n",
        "with open(CSV_IN, 'r', encoding='utf-8', newline='\\n') as f_in, \\\n",
        "     open(TXT_OUT, 'w', encoding='utf-8', newline='\\n') as f_out:\n",
        "    reader = csv.reader(f_in)\n",
        "    writer = csv.writer(f_out)\n",
        "    for row in reader:\n",
        "        writer.writerow([row])\n",
        "        if reader.line_num == 25:\n",
        "            break"
      ],
      "metadata": {
        "id": "1wXVpwV7GaMh"
      },
      "execution_count": 108,
      "outputs": []
    },
    {
      "cell_type": "code",
      "source": [
        "# Import NLTK\n",
        "import nltk\n",
        "\n",
        "#Open the file, read contents and tokenize\n",
        "F_IN = 'abstracts.txt'\n",
        "\n",
        "with open(F_IN, 'r', encoding='utf-8') as f_in:\n",
        "    raw_text = f_in.read()\n",
        "    word_tok = nltk.word_tokenize(raw_text)\n",
        "\n",
        "# Remove punctuation\n",
        "NoWord = [',','(',')',':',';','.','%','\\x96','{','}','[',']','!','?',\"''\",\"``\"]\n",
        "word_tok2 = [i for i in word_tok if i not in NoWord]\n",
        "nw = len(word_tok2)\n",
        "\n",
        "# Print total number of tokens\n",
        "print(nw)"
      ],
      "metadata": {
        "colab": {
          "base_uri": "https://localhost:8080/"
        },
        "id": "RYBcG0iuMGIK",
        "outputId": "386d8228-ad82-4768-d522-f50a41b5f270"
      },
      "execution_count": 115,
      "outputs": [
        {
          "output_type": "stream",
          "name": "stdout",
          "text": [
            "122455\n"
          ]
        }
      ]
    },
    {
      "cell_type": "code",
      "source": [
        "# Open file and read lines\n",
        "with open(F_IN, 'r', encoding='utf-8', newline='\\n') as f_in:\n",
        "    lines = f_in.readlines()\n",
        "# Create for loop over lines in the file\n",
        "    for line in lines:\n",
        "      sent_tok = nltk.sent_tokenize(line)\n",
        "      ns = len(sent_tok)\n",
        "      word_tok = nltk.word_tokenize(line)\n",
        "      NoWord = [',','(',')',':',';','.','%','\\x96','{','}','[',']','!','?',\"''\",\"``\"]\n",
        "      word_tok2 = [i for i in word_tok if i not in NoWord]\n",
        "      nw = len(word_tok2)\n",
        "# Conditional statement to only print lines of more than one sentence\n",
        "      if ns > 1:\n",
        "        print([ns, nw])\n",
        "        print(nw/ns)"
      ],
      "metadata": {
        "id": "57fRXOzqM0A_"
      },
      "execution_count": null,
      "outputs": []
    },
    {
      "cell_type": "code",
      "source": [
        "# Import PrettyPrint\n",
        "import pprint\n",
        "\n",
        "# Download the parts of speech tagger\n",
        "nltk.download('averaged_perceptron_tagger')\n",
        "\n",
        "with open(F_IN, 'r', encoding='utf-8', newline='\\n') as f_in:\n",
        "    lines = f_in.readlines()\n",
        "    for line in lines:\n",
        "      sent_tok = nltk.sent_tokenize(line)\n",
        "      ns = len(sent_tok)\n",
        "      word_tok = nltk.word_tokenize(line)\n",
        "      NoWord = [',','(',')',':',';','.','%','\\x96','{','}','[',']','!','?',\"''\",\"``\"]\n",
        "      word_tok2 = [i for i in word_tok if i not in NoWord]\n",
        "      nw = len(word_tok2)\n",
        "      if ns > 1:\n",
        "        pos_tags = nltk.pos_tag(word_tok)"
      ],
      "metadata": {
        "id": "A-UIIwF5F33G"
      },
      "execution_count": null,
      "outputs": []
    },
    {
      "cell_type": "code",
      "source": [
        "# Check type of the object\n",
        "type(pos_tags)"
      ],
      "metadata": {
        "id": "Uf5EWQoCK18f"
      },
      "execution_count": null,
      "outputs": []
    },
    {
      "cell_type": "code",
      "source": [
        "# Create dataframe from tag list\n",
        "tags = pd.DataFrame(pos_tags)"
      ],
      "metadata": {
        "id": "gcaN8PLdLCKU"
      },
      "execution_count": 114,
      "outputs": []
    },
    {
      "cell_type": "code",
      "source": [
        "# Save the dataframe as a CSV file\n",
        "tags.to_csv('tags.csv', index = False)"
      ],
      "metadata": {
        "id": "i5BqpEC9LWaj"
      },
      "execution_count": 105,
      "outputs": []
    }
  ]
}