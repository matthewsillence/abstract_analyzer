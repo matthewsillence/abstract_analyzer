{
  "nbformat": 4,
  "nbformat_minor": 0,
  "metadata": {
    "colab": {
      "name": "abstract_analyzer.ipynb",
      "provenance": [],
      "collapsed_sections": [],
      "authorship_tag": "ABX9TyMhmS9AeXMe5beHuTfe09bq",
      "include_colab_link": true
    },
    "kernelspec": {
      "name": "python3",
      "display_name": "Python 3"
    },
    "language_info": {
      "name": "python"
    }
  },
  "cells": [
    {
      "cell_type": "markdown",
      "metadata": {
        "id": "view-in-github",
        "colab_type": "text"
      },
      "source": [
        "<a href=\"https://colab.research.google.com/github/matthewsillence/abstract_analyzer/blob/main/abstract_analyzer.ipynb\" target=\"_parent\"><img src=\"https://colab.research.google.com/assets/colab-badge.svg\" alt=\"Open In Colab\"/></a>"
      ]
    },
    {
      "cell_type": "code",
      "execution_count": null,
      "metadata": {
        "id": "z07yS4MvEI8S"
      },
      "outputs": [],
      "source": [
        "#This script is adapted from: https://andrewpwheeler.com/2016/06/08/sentence-length-in-academic-articles/ \n",
        "#import NLTK\n",
        "import nltk\n",
        "#need to download this for the English sentence tokenizer files\n",
        "\n",
        "#download Punkt. This splits up punctuation\n",
        "nltk.download('punkt')\n",
        "\n",
        "#import PrettyPrint\n",
        "import pprint"
      ]
    },
    {
      "cell_type": "code",
      "source": [
        "#Open the file, read contents and tokenize\n",
        "F_IN = 'abstract.txt'\n",
        "\n",
        "with open(F_IN, 'r', encoding='utf-8') as f_in:\n",
        "    raw_text = f_in.read()\n",
        "    word_tok = nltk.word_tokenize(raw_text)\n",
        "\n",
        "#need to take out commas plus other stuff\n",
        "NoWord = [',','(',')',':',';','.','%','\\x96','{','}','[',']','!','?',\"''\",\"``\"]\n",
        "word_tok2 = [i for i in word_tok if i not in NoWord]\n",
        "nw = len(word_tok2)\n",
        "\n",
        "#Print number of tokens\n",
        "print(nw)"
      ],
      "metadata": {
        "id": "L9tfkXdkLLUR"
      },
      "execution_count": null,
      "outputs": []
    },
    {
      "cell_type": "code",
      "source": [
        "#Count number of sentences\n",
        "sent_tok = nltk.sent_tokenize(raw_text)\n",
        "ns = len(sent_tok)\n",
        "print(ns)"
      ],
      "metadata": {
        "id": "5mG8Klk3Et-D"
      },
      "execution_count": null,
      "outputs": []
    },
    {
      "cell_type": "code",
      "source": [
        "#Average Sentence length are words divided by sentences\n",
        "print(nw/ns)"
      ],
      "metadata": {
        "id": "IklJ0MmWIHar"
      },
      "execution_count": null,
      "outputs": []
    },
    {
      "cell_type": "code",
      "source": [
        "# Tokenize and tag words\n",
        "nltk.download('averaged_perceptron_tagger')\n",
        "\n",
        "from nltk.tokenize import sent_tokenize, word_tokenize\n",
        "\n",
        "pos_tags = nltk.pos_tag(word_tok2)\n",
        "pprint.pprint(pos_tags[0:9])"
      ],
      "metadata": {
        "id": "YW5_CuFIOJy3"
      },
      "execution_count": null,
      "outputs": []
    },
    {
      "cell_type": "code",
      "source": [
        "import pandas as pd\n",
        "df = pd.DataFrame(pos_tags)\n",
        "print(df)"
      ],
      "metadata": {
        "id": "wwC4ohNnOlk3"
      },
      "execution_count": null,
      "outputs": []
    },
    {
      "cell_type": "code",
      "source": [
        "df.to_csv('tags.csv')"
      ],
      "metadata": {
        "id": "ER3yYc25OoYW"
      },
      "execution_count": 77,
      "outputs": []
    }
  ]
}